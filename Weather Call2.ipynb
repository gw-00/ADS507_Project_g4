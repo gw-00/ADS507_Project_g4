{
 "cells": [
  {
   "cell_type": "code",
   "execution_count": 1,
   "metadata": {},
   "outputs": [],
   "source": [
    "import os\n",
    "from dotenv import load_dotenv\n",
    "import mysql.connector\n",
    "import requests\n",
    "import pandas as pd\n",
    "from datetime import datetime, timedelta\n",
    "from IPython.display import HTML, display\n",
    "from openpyxl import Workbook\n",
    "from openpyxl.drawing.image import Image\n",
    "from mysql.connector import Error"
   ]
  },
  {
   "cell_type": "code",
   "execution_count": 2,
   "metadata": {},
   "outputs": [
    {
     "data": {
      "text/plain": [
       "True"
      ]
     },
     "execution_count": 2,
     "metadata": {},
     "output_type": "execute_result"
    }
   ],
   "source": [
    "load_dotenv()"
   ]
  },
  {
   "cell_type": "code",
   "execution_count": 3,
   "metadata": {},
   "outputs": [],
   "source": [
    "# MySQL credentials from environment variables\n",
    "MYSQL_HOST = os.getenv('MYSQL_HOST')\n",
    "MYSQL_USER = os.getenv('MYSQL_USER')\n",
    "MYSQL_PASSWORD = os.getenv('MYSQL_PASSWORD')\n",
    "MYSQL_DATABASE = os.getenv('MYSQL_DATABASE')"
   ]
  },
  {
   "cell_type": "code",
   "execution_count": 15,
   "metadata": {},
   "outputs": [
    {
     "name": "stdout",
     "output_type": "stream",
     "text": [
      "Connected to MySQL database\n",
      "Error during data insertion: 1366 (HY000): Incorrect integer value: 'clear' for column 'weather_code' at row 1\n",
      "MySQL connection is closed\n"
     ]
    }
   ],
   "source": [
    "# Function to connect to MySQL database\n",
    "def connect_to_mysql():\n",
    "    try:\n",
    "        connection = mysql.connector.connect(\n",
    "            host=MYSQL_HOST,  # Use variables loaded from dotenv\n",
    "            database=MYSQL_DATABASE,\n",
    "            user=MYSQL_USER,\n",
    "            password=MYSQL_PASSWORD,\n",
    "        )\n",
    "        if connection.is_connected():\n",
    "            print(\"Connected to MySQL database\")\n",
    "            return connection\n",
    "    except Error as e:\n",
    "        print(f\"Error: {e}\")\n",
    "        return None\n",
    "\n",
    "# Function to insert data into MySQL\n",
    "def insert_data_to_mysql(df, connection):\n",
    "    try:\n",
    "        if connection.is_connected():\n",
    "            cursor = connection.cursor()\n",
    "            insert_query = \"\"\"\n",
    "                INSERT INTO weather_forecasts (\n",
    "                    forecast_time, forecast_temperature, forecast_temp_apparent, forecast_humidity, rain_chance, forecast_winds, weather_code, weather_icon\n",
    "                )\n",
    "                VALUES (%s, %s, %s, %s, %s, %s, %s, %s)\n",
    "            \"\"\"\n",
    "            # Insert each row from the DataFrame\n",
    "            for row in df.itertuples(index=False):\n",
    "                cursor.execute(insert_query, (\n",
    "                    row.time, \n",
    "                    row.temperature, \n",
    "                    row.temp_apparent, \n",
    "                    row.humidity, \n",
    "                    row.rain, \n",
    "                    row.wind_speed, \n",
    "                    row.weather_code, \n",
    "                    row.weather_icon\n",
    "                ))\n",
    "            connection.commit()\n",
    "            print(f\"Inserted {cursor.rowcount} rows successfully\")\n",
    "    except Error as e:\n",
    "        print(f\"Error during data insertion: {e}\")\n",
    "    finally:\n",
    "        if connection.is_connected():\n",
    "            cursor.close()\n",
    "            connection.close()\n",
    "            print(\"MySQL connection is closed\")\n",
    "\n",
    "# Ensure connection is established\n",
    "mysql_connection = connect_to_mysql()\n",
    "\n",
    "weather_forecasts = pd.DataFrame({\n",
    "    'time': [datetime.now()],\n",
    "    'temperature': [20],\n",
    "    'temp_apparent': [18],\n",
    "    'humidity': [50],\n",
    "    'rain': [0],\n",
    "    'wind_speed': [5],\n",
    "    'weather_code': ['clear'],\n",
    "    'weather_icon': ['01d']\n",
    "})\n",
    "\n",
    "if mysql_connection:\n",
    "    insert_data_to_mysql(weather_forecasts, mysql_connection)\n",
    "else:\n",
    "    print(\"Failed to connect to MySQL database.\")"
   ]
  }
 ],
 "metadata": {
  "kernelspec": {
   "display_name": "ADS500B",
   "language": "python",
   "name": "python3"
  },
  "language_info": {
   "codemirror_mode": {
    "name": "ipython",
    "version": 3
   },
   "file_extension": ".py",
   "mimetype": "text/x-python",
   "name": "python",
   "nbconvert_exporter": "python",
   "pygments_lexer": "ipython3",
   "version": "3.12.4"
  }
 },
 "nbformat": 4,
 "nbformat_minor": 2
}
