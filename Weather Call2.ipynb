{
 "cells": [
  {
   "cell_type": "code",
   "execution_count": 2,
   "metadata": {},
   "outputs": [],
   "source": [
    "import os\n",
    "from dotenv import load_dotenv\n",
    "import mysql.connector\n",
    "import requests\n",
    "import pandas as pd\n",
    "from datetime import datetime, timedelta\n",
    "from IPython.display import HTML, display\n",
    "from openpyxl import Workbook\n",
    "from openpyxl.drawing.image import Image\n",
    "from mysql.connector import Error"
   ]
  },
  {
   "cell_type": "code",
   "execution_count": 1,
   "metadata": {},
   "outputs": [
    {
     "ename": "NameError",
     "evalue": "name 'Error' is not defined",
     "output_type": "error",
     "traceback": [
      "\u001b[1;31m---------------------------------------------------------------------------\u001b[0m",
      "\u001b[1;31mNameError\u001b[0m                                 Traceback (most recent call last)",
      "Cell \u001b[1;32mIn[1], line 4\u001b[0m, in \u001b[0;36mconnect_to_mysql\u001b[1;34m()\u001b[0m\n\u001b[0;32m      3\u001b[0m \u001b[38;5;28;01mtry\u001b[39;00m:\n\u001b[1;32m----> 4\u001b[0m     connection \u001b[38;5;241m=\u001b[39m \u001b[43mmysql\u001b[49m\u001b[38;5;241m.\u001b[39mconnector\u001b[38;5;241m.\u001b[39mconnect(\n\u001b[0;32m      5\u001b[0m         host\u001b[38;5;241m=\u001b[39mMYSQL_HOST,  \u001b[38;5;66;03m# Use variables loaded from dotenv\u001b[39;00m\n\u001b[0;32m      6\u001b[0m         database\u001b[38;5;241m=\u001b[39mMYSQL_DATABASE,\n\u001b[0;32m      7\u001b[0m         user\u001b[38;5;241m=\u001b[39mMYSQL_USER,\n\u001b[0;32m      8\u001b[0m         password\u001b[38;5;241m=\u001b[39mMYSQL_PASSWORD,\n\u001b[0;32m      9\u001b[0m     )\n\u001b[0;32m     10\u001b[0m     \u001b[38;5;28;01mif\u001b[39;00m connection\u001b[38;5;241m.\u001b[39mis_connected():\n",
      "\u001b[1;31mNameError\u001b[0m: name 'mysql' is not defined",
      "\nDuring handling of the above exception, another exception occurred:\n",
      "\u001b[1;31mNameError\u001b[0m                                 Traceback (most recent call last)",
      "Cell \u001b[1;32mIn[1], line 51\u001b[0m\n\u001b[0;32m     48\u001b[0m             \u001b[38;5;28mprint\u001b[39m(\u001b[38;5;124m\"\u001b[39m\u001b[38;5;124mMySQL connection is closed\u001b[39m\u001b[38;5;124m\"\u001b[39m)\n\u001b[0;32m     50\u001b[0m \u001b[38;5;66;03m# Ensure connection is established\u001b[39;00m\n\u001b[1;32m---> 51\u001b[0m mysql_connection \u001b[38;5;241m=\u001b[39m \u001b[43mconnect_to_mysql\u001b[49m\u001b[43m(\u001b[49m\u001b[43m)\u001b[49m\n\u001b[0;32m     53\u001b[0m \u001b[38;5;28;01mif\u001b[39;00m mysql_connection:\n\u001b[0;32m     54\u001b[0m     insert_data_to_mysql(weather_df, mysql_connection)\n",
      "Cell \u001b[1;32mIn[1], line 13\u001b[0m, in \u001b[0;36mconnect_to_mysql\u001b[1;34m()\u001b[0m\n\u001b[0;32m     11\u001b[0m         \u001b[38;5;28mprint\u001b[39m(\u001b[38;5;124m\"\u001b[39m\u001b[38;5;124mConnected to MySQL database\u001b[39m\u001b[38;5;124m\"\u001b[39m)\n\u001b[0;32m     12\u001b[0m         \u001b[38;5;28;01mreturn\u001b[39;00m connection\n\u001b[1;32m---> 13\u001b[0m \u001b[38;5;28;01mexcept\u001b[39;00m \u001b[43mError\u001b[49m \u001b[38;5;28;01mas\u001b[39;00m e:\n\u001b[0;32m     14\u001b[0m     \u001b[38;5;28mprint\u001b[39m(\u001b[38;5;124mf\u001b[39m\u001b[38;5;124m\"\u001b[39m\u001b[38;5;124mError: \u001b[39m\u001b[38;5;132;01m{\u001b[39;00me\u001b[38;5;132;01m}\u001b[39;00m\u001b[38;5;124m\"\u001b[39m)\n\u001b[0;32m     15\u001b[0m     \u001b[38;5;28;01mreturn\u001b[39;00m \u001b[38;5;28;01mNone\u001b[39;00m\n",
      "\u001b[1;31mNameError\u001b[0m: name 'Error' is not defined"
     ]
    }
   ],
   "source": [
    "# Function to connect to MySQL database\n",
    "def connect_to_mysql():\n",
    "    try:\n",
    "        connection = mysql.connector.connect(\n",
    "            host=MYSQL_HOST,  # Use variables loaded from dotenv\n",
    "            database=MYSQL_DATABASE,\n",
    "            user=MYSQL_USER,\n",
    "            password=MYSQL_PASSWORD,\n",
    "        )\n",
    "        if connection.is_connected():\n",
    "            print(\"Connected to MySQL database\")\n",
    "            return connection\n",
    "    except Error as e:\n",
    "        print(f\"Error: {e}\")\n",
    "        return None\n",
    "\n",
    "# Function to insert data into MySQL\n",
    "def insert_data_to_mysql(df, connection):\n",
    "    try:\n",
    "        if connection.is_connected():\n",
    "            cursor = connection.cursor()\n",
    "            insert_query = \"\"\"\n",
    "                INSERT INTO weather_data (\n",
    "                    time, temperature, temperature_apparent, humidity, rain, wind_speed, weather_code, weather_icon\n",
    "                )\n",
    "                VALUES (%s, %s, %s, %s, %s, %s, %s, %s)\n",
    "            \"\"\"\n",
    "            # Insert each row from the DataFrame\n",
    "            for row in df.itertuples(index=False):\n",
    "                cursor.execute(insert_query, (\n",
    "                    row.time, \n",
    "                    row.temperature, \n",
    "                    row.temperatureApparent, \n",
    "                    row.humidity, \n",
    "                    row.rain, \n",
    "                    row.windSpeed, \n",
    "                    row.weather_code, \n",
    "                    row.weather_icon\n",
    "                ))\n",
    "            connection.commit()\n",
    "            print(f\"Inserted {cursor.rowcount} rows successfully\")\n",
    "    except Error as e:\n",
    "        print(f\"Error during data insertion: {e}\")\n",
    "    finally:\n",
    "        if connection.is_connected():\n",
    "            cursor.close()\n",
    "            connection.close()\n",
    "            print(\"MySQL connection is closed\")\n",
    "\n",
    "# Ensure connection is established\n",
    "mysql_connection = connect_to_mysql()\n",
    "\n",
    "if mysql_connection:\n",
    "    insert_data_to_mysql(weather_df, mysql_connection)\n",
    "else:\n",
    "    print(\"Failed to connect to MySQL database.\")"
   ]
  }
 ],
 "metadata": {
  "kernelspec": {
   "display_name": "ADS500B",
   "language": "python",
   "name": "python3"
  },
  "language_info": {
   "codemirror_mode": {
    "name": "ipython",
    "version": 3
   },
   "file_extension": ".py",
   "mimetype": "text/x-python",
   "name": "python",
   "nbconvert_exporter": "python",
   "pygments_lexer": "ipython3",
   "version": "3.12.4"
  }
 },
 "nbformat": 4,
 "nbformat_minor": 2
}
