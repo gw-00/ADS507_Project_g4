{
 "cells": [
  {
   "cell_type": "markdown",
   "metadata": {},
   "source": [
    "Group Project"
   ]
  },
  {
   "cell_type": "code",
   "execution_count": 36,
   "metadata": {},
   "outputs": [
    {
     "name": "stdout",
     "output_type": "stream",
     "text": [
      "Requirement already satisfied: mysql-connector-python in c:\\users\\cynth\\miniconda3\\lib\\site-packages (9.2.0)\n",
      "Note: you may need to restart the kernel to use updated packages.\n"
     ]
    }
   ],
   "source": [
    "pip install mysql-connector-python"
   ]
  },
  {
   "cell_type": "code",
   "execution_count": 29,
   "metadata": {},
   "outputs": [],
   "source": [
    "import os\n",
    "from dotenv import load_dotenv\n",
    "import mysql.connector \n",
    "from mysql.connector import Error\n",
    "import requests\n",
    "import pandas as pd\n",
    "from datetime import datetime, timedelta\n"
   ]
  },
  {
   "cell_type": "code",
   "execution_count": 30,
   "metadata": {},
   "outputs": [
    {
     "data": {
      "text/plain": [
       "True"
      ]
     },
     "execution_count": 30,
     "metadata": {},
     "output_type": "execute_result"
    }
   ],
   "source": [
    "load_dotenv()  # Load environment variables from .env file"
   ]
  },
  {
   "cell_type": "code",
   "execution_count": 31,
   "metadata": {},
   "outputs": [],
   "source": [
    "TICKETMASTER_API_KEY = os.getenv('TICKETMASTER_API_KEY')\n",
    "TOMORROW_API_KEY = os.getenv('TOMORROW_API_KEY')   \n",
    "\n",
    "TICKETMASTER_Events_API_Endpoint = \"https://app.ticketmaster.com/discovery/v2/events.json\"\n",
    "TOMORROW_API_Endpoint = \"https://api.tomorrow.io/v4/weather/forecast\"\n"
   ]
  },
  {
   "cell_type": "code",
   "execution_count": 32,
   "metadata": {},
   "outputs": [],
   "source": [
    "MYSQL_HOST = os.getenv('MYSQL_HOST')\n",
    "MYSQL_USER = os.getenv('MYSQL_USER')\n",
    "MYSQL_PASSWORD = os.getenv('MYSQL_PASSWORD')\n",
    "MYSQL_DATABASE = os.getenv('MYSQL_DATABASE')\n",
    "\n",
    "conn = mysql.connector.connect(\n",
    "    host=MYSQL_HOST,\n",
    "    user=MYSQL_USER,\n",
    "    password=MYSQL_PASSWORD,\n",
    "    database=MYSQL_DATABASE\n",
    ")"
   ]
  },
  {
   "cell_type": "code",
   "execution_count": 33,
   "metadata": {},
   "outputs": [],
   "source": [
    "# In order to pull the next 7 days of events\n",
    "# Get today's date\n",
    "today = datetime.today()\n",
    "\n",
    "# Get the date 6 days from today\n",
    "six_days_later = today + timedelta(days=6)\n",
    "\n",
    "# Format the dates in the correct format (e.g., 'YYYY-MM-DD')\n",
    "start_date = today.strftime('%Y-%m-%dT00:00:00Z')\n",
    "end_date = six_days_later.strftime('%Y-%m-%dT23:59:59Z')"
   ]
  },
  {
   "cell_type": "code",
   "execution_count": 34,
   "metadata": {},
   "outputs": [],
   "source": [
    "# EVENTS API\n",
    "# API pull with parameters\n",
    "params = {\n",
    "    \"apikey\": TICKETMASTER_API_KEY,       \n",
    "    \"city\": \"San Diego\", \n",
    "    \"size\": 200,\n",
    "    \"startDateTime\": start_date,  # Start date (today)\n",
    "    \"endDateTime\": end_date      # End date (7 days later)                 \n",
    "}\n",
    "\n",
    "# Send the request to the API\n",
    "response = requests.get(TICKETMASTER_Events_API_Endpoint, params=params)"
   ]
  },
  {
   "cell_type": "code",
   "execution_count": null,
   "metadata": {},
   "outputs": [
    {
     "name": "stdout",
     "output_type": "stream",
     "text": [
      "Connection is active\n",
      "Inserted 1 records into MySQL!\n",
      "MySQL connection all set YAY!\n"
     ]
    }
   ],
   "source": [
    "cursor = conn.cursor()\n",
    "\n",
    "if conn.is_connected():\n",
    "    print(\"Connection is active\")\n",
    "else:\n",
    "    print(\"Connection is not active\")\n",
    "    # Reconnect logic here\n",
    "\n",
    "\n",
    "if response.status_code == 200:\n",
    "    data = response.json()\n",
    "    events = data.get(\"_embedded\", {}).get(\"events\", [])\n",
    "\n",
    "    # Convert to DataFrame\n",
    "    df = pd.DataFrame(events)\n",
    "\n",
    "    # Extract event details\n",
    "    df['event_id'] = df['id']\n",
    "    df['event_name'] = df['name']\n",
    "    df['event_start_date'] = df['dates'].apply(lambda x: x['start']['localDate'] if isinstance(x, dict) and 'start' in x else None)\n",
    "    df['event_category'] = df['classifications'].apply(lambda x: x[0]['segment']['name'] if isinstance(x, list) and len(x) > 0 and 'segment' in x[0] else None\n",
    ")\n",
    "\n",
    "\n",
    "    # Extract venue details\n",
    "    df['venue_id'] = df['_embedded'].apply(lambda x: x['venues'][0]['id'] if isinstance(x, dict) and 'venues' in x else None)\n",
    "    df['venue_name'] = df['_embedded'].apply(lambda x: x['venues'][0]['name'] if isinstance(x, dict) and 'venues' in x else None)\n",
    "    df['venue_city'] = df['_embedded'].apply(lambda x: x['venues'][0]['city']['name'] if isinstance(x, dict) and 'venues' in x else None)\n",
    "    df['venue_state'] = df['_embedded'].apply(lambda x: x['venues'][0]['state']['stateCode'] if isinstance(x, dict) and 'venues' in x and 'state' in x['venues'][0] else None)\n",
    "    df['venue_zip'] = df['_embedded'].apply(lambda x: x['venues'][0].get('postalCode') if isinstance(x, dict) and 'venues' in x else None)\n",
    "    df['venue_country'] = df['_embedded'].apply(lambda x: x['venues'][0]['country']['countryCode'] if isinstance(x, dict) and 'venues' in x else None)\n",
    "    df['venue_location'] = df['_embedded'].apply(lambda x: f\"{x['venues'][0]['location']['latitude']},{x['venues'][0]['location']['longitude']}\" if isinstance(x, dict) and 'venues' in x and 'location' in x['venues'][0] else None\n",
    ")\n",
    "\n",
    "\n",
    "\n",
    "\n",
    "\n",
    "    # Select final columns for events and venues\n",
    "    events_df = df[['event_id', 'event_name', 'event_start_date', 'venue_id', 'event_category']]\n",
    "    venues_df = df[['venue_id', 'venue_name', 'venue_city', 'venue_state', 'venue_country', 'venue_location']].drop_duplicates()\n",
    "\n",
    "    # Assuming `conn` is already connected\n",
    "    try:\n",
    "\n",
    "        # Insert venues (ignore duplicates)\n",
    "        insert_venue_query = \"\"\"\n",
    "        INSERT INTO venues (venue_id, name, city, state, country, location)\n",
    "        VALUES (%s, %s, %s, %s, %s, %s)\n",
    "        ON DUPLICATE KEY UPDATE \n",
    "            name=VALUES(name), \n",
    "            city=VALUES(city), \n",
    "            state=VALUES(state),\n",
    "            country=VALUES(country),\n",
    "            location=VALUES(location);\n",
    "        \"\"\"\n",
    "\n",
    "        for _, row in venues_df.iterrows():\n",
    "            cursor.execute(insert_venue_query, tuple(row))\n",
    "        conn.commit()  # Commit after inserting venues\n",
    "\n",
    "        # Insert events (ignore duplicates)\n",
    "        insert_event_query = \"\"\"\n",
    "        INSERT INTO events (event_id, name, start_date, venue_id, category)\n",
    "        VALUES (%s, %s, %s, %s, %s)\n",
    "        ON DUPLICATE KEY UPDATE \n",
    "            name=VALUES(name),\n",
    "            start_date=VALUES(start_date),\n",
    "            venue_id=VALUES(venue_id),\n",
    "            category=VALUES(category);\n",
    "        \"\"\"\n",
    "\n",
    "        for _, row in events_df.iterrows():\n",
    "            cursor.execute(insert_event_query, tuple(row))\n",
    "        conn.commit()  # Commit after inserting events\n",
    "\n",
    "        \n",
    "        print(f\"Inserted {cursor.rowcount} records into MySQL!\")\n",
    "\n",
    "    except Error as e:\n",
    "        print(f\"Error: {e}\")\n",
    "\n",
    "    finally:\n",
    "        if 'conn' in locals() and conn.is_connected():\n",
    "            cursor.close()\n",
    "            print(\"MySQL connection all set!\")\n",
    "\n",
    "else:\n",
    "    print(f\"API call failed with status {response.status_code}\")\n",
    "    print(\"Response details:\", response.text)"
   ]
  }
 ],
 "metadata": {
  "kernelspec": {
   "display_name": "base",
   "language": "python",
   "name": "python3"
  },
  "language_info": {
   "codemirror_mode": {
    "name": "ipython",
    "version": 3
   },
   "file_extension": ".py",
   "mimetype": "text/x-python",
   "name": "python",
   "nbconvert_exporter": "python",
   "pygments_lexer": "ipython3",
   "version": "3.12.4"
  }
 },
 "nbformat": 4,
 "nbformat_minor": 2
}
