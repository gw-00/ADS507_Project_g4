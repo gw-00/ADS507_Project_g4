{
 "cells": [
  {
   "cell_type": "markdown",
   "metadata": {},
   "source": [
    "## Group 4 Project\n",
    "### Members: Austin Mallie, Cynthia Portales-Loebell, Graham Ward\n",
    "### Course: ADS507 - Fundamentals of Data Engineering"
   ]
  },
  {
   "cell_type": "code",
   "execution_count": null,
   "metadata": {},
   "outputs": [],
   "source": [
    "# Import the necessary libraries\n",
    "import os\n",
    "import requests\n",
    "import mysql.connector\n",
    "import datetime\n",
    "import pandas as pd\n",
    "import matplotlib.pyplot as plt\n",
    "\n",
    "from dotenv import load_dotenv"
   ]
  },
  {
   "cell_type": "code",
   "execution_count": null,
   "metadata": {},
   "outputs": [],
   "source": [
    "# Load environment variables from .env file\n",
    "load_dotenv()"
   ]
  },
  {
   "cell_type": "code",
   "execution_count": null,
   "metadata": {},
   "outputs": [],
   "source": [
    "# Set API keys as environment variables\n",
    "TICKETMASTER_API_KEY = os.getenv('TICKETMASTER_API_KEY')\n",
    "TOMORROW_API_KEY = os.getenv('TOMORROW_API_KEY')\n",
    "\n",
    "### may not need right here, will check once all code has been moved into this file\n",
    "TICKETMASTER_Events_API_Endpoint = \"https://app.ticketmaster.com/discovery/v2/events.json\"\n",
    "TOMORROW_API_Endpoint = \"https://api.tomorrow.io/v4/weather/forecast\""
   ]
  },
  {
   "cell_type": "code",
   "execution_count": 3,
   "metadata": {},
   "outputs": [],
   "source": [
    "# Set the SQL Connection environment variables\n",
    "MYSQL_HOST = os.getenv('MYSQL_HOST')\n",
    "MYSQL_USER = os.getenv('MYSQL_USER')\n",
    "MYSQL_PASSWORD = os.getenv('MYSQL_PASSWORD')\n",
    "MYSQL_DATABASE = os.getenv('MYSQL_DATABASE')"
   ]
  },
  {
   "cell_type": "markdown",
   "metadata": {},
   "source": [
    "### Cynthias Events and Venues pulling section"
   ]
  },
  {
   "cell_type": "code",
   "execution_count": null,
   "metadata": {},
   "outputs": [],
   "source": [
    "conn = mysql.connector.connect(\n",
    "    host=MYSQL_HOST,\n",
    "    user=MYSQL_USER,\n",
    "    password=MYSQL_PASSWORD,\n",
    "    database=MYSQL_DATABASE\n",
    ")"
   ]
  },
  {
   "cell_type": "code",
   "execution_count": null,
   "metadata": {},
   "outputs": [],
   "source": [
    "# In order to pull the next 7 days of events\n",
    "# Get today's date\n",
    "today = datetime.today()\n",
    "\n",
    "# Get the date 6 days from today\n",
    "six_days_later = today + timedelta(days=6)\n",
    "\n",
    "# Format the dates in the correct format (e.g., 'YYYY-MM-DD')\n",
    "start_date = today.strftime('%Y-%m-%dT00:00:00Z')\n",
    "end_date = six_days_later.strftime('%Y-%m-%dT23:59:59Z')"
   ]
  },
  {
   "cell_type": "code",
   "execution_count": null,
   "metadata": {},
   "outputs": [],
   "source": [
    "# EVENTS API\n",
    "# API pull with parameters\n",
    "params = {\n",
    "    \"apikey\": TICKETMASTER_API_KEY,       \n",
    "    \"city\": \"San Diego\", \n",
    "    \"size\": 200,\n",
    "    \"startDateTime\": start_date,  # Start date (today)\n",
    "    \"endDateTime\": end_date      # End date (7 days later)                 \n",
    "}\n",
    "\n",
    "# Send the request to the API\n",
    "response = requests.get(TICKETMASTER_Events_API_Endpoint, params=params)"
   ]
  },
  {
   "cell_type": "code",
   "execution_count": null,
   "metadata": {},
   "outputs": [],
   "source": [
    "#Establish connection\n",
    "cursor = conn.cursor()\n",
    "\n",
    "if conn.is_connected():\n",
    "    print(\"Connection is active\")\n",
    "else:\n",
    "    print(\"Connection is not active\")"
   ]
  },
  {
   "cell_type": "code",
   "execution_count": null,
   "metadata": {},
   "outputs": [],
   "source": [
    "# Check API response is successful\n",
    "if response.status_code == 200:\n",
    "    print(\"API call successful!\")  \n",
    "    \n",
    "    # Process the response data\n",
    "    data = response.json()\n",
    "    events = data.get(\"_embedded\", {}).get(\"events\", [])\n",
    "\n",
    "    # Convert data to a DataFrame\n",
    "    df = pd.DataFrame(events)"
   ]
  },
  {
   "cell_type": "code",
   "execution_count": null,
   "metadata": {},
   "outputs": [],
   "source": [
    "# Review the first 10 rows of the DataFrame before further processing\n",
    "#limit column width for table\n",
    "pd.set_option('display.max_colwidth', 40)  \n",
    "\n",
    "# View the rows\n",
    "df.head(5)"
   ]
  },
  {
   "cell_type": "code",
   "execution_count": null,
   "metadata": {},
   "outputs": [],
   "source": [
    "# Extract Event details\n",
    "df['event_id'] = df['id']\n",
    "df['event_name'] = df['name']\n",
    "df['event_start_date'] = df['dates'].apply(lambda x: x['start']['localDate'] if isinstance(x, dict) and 'start' in x else None)\n",
    "df['event_category'] = df['classifications'].apply(lambda x: x[0]['segment']['name'] if isinstance(x, list) and len(x) > 0 and 'segment' in x[0] else None\n",
    ")"
   ]
  },
  {
   "cell_type": "code",
   "execution_count": null,
   "metadata": {},
   "outputs": [],
   "source": [
    "# Extract Venue details\n",
    "df['venue_id'] = df['_embedded'].apply(lambda x: x['venues'][0]['id'] if isinstance(x, dict) and 'venues' in x else None)\n",
    "df['venue_name'] = df['_embedded'].apply(lambda x: x['venues'][0]['name'] if isinstance(x, dict) and 'venues' in x else None)\n",
    "df['venue_city'] = df['_embedded'].apply(lambda x: x['venues'][0]['city']['name'] if isinstance(x, dict) and 'venues' in x else None)\n",
    "df['venue_state'] = df['_embedded'].apply(lambda x: x['venues'][0]['state']['stateCode'] if isinstance(x, dict) and 'venues' in x and 'state' in x['venues'][0] else None)\n",
    "df['venue_zip'] = df['_embedded'].apply(lambda x: x['venues'][0].get('postalCode') if isinstance(x, dict) and 'venues' in x else None)\n",
    "df['venue_country'] = df['_embedded'].apply(lambda x: x['venues'][0]['country']['countryCode'] if isinstance(x, dict) and 'venues' in x else None)\n",
    "df['venue_location'] = df['_embedded'].apply(lambda x: f\"{x['venues'][0]['location']['latitude']},{x['venues'][0]['location']['longitude']}\" if isinstance(x, dict) and 'venues' in x and 'location' in x['venues'][0] else None\n",
    ")"
   ]
  },
  {
   "cell_type": "code",
   "execution_count": null,
   "metadata": {},
   "outputs": [],
   "source": [
    "# Prepare data for insertion\n",
    "events_df = df[['event_id', 'event_name', 'event_start_date', 'venue_id', 'event_category']]\n",
    "venues_df = df[['venue_id', 'venue_name', 'venue_city', 'venue_state', 'venue_country', 'venue_location']].drop_duplicates() #only show each venue once\n",
    "\n",
    "print(f\"Number of rows pulled from API: {len(events_df)}\")"
   ]
  },
  {
   "cell_type": "code",
   "execution_count": null,
   "metadata": {},
   "outputs": [],
   "source": [
    "# Insert data to the database or provide failure status\n",
    "try:\n",
    "    cursor = conn.cursor()\n",
    "\n",
    "    # Before loading in new data, delete event data that is in the past now since the last pull\n",
    "    delete_past_events_query = \"DELETE FROM events WHERE start_date < CURDATE();\"\n",
    "    cursor.execute(delete_past_events_query)\n",
    "    deleted_events_count = cursor.rowcount  # Get the number of deleted rows\n",
    "    conn.commit()  # Commit deletion\n",
    "    print(f\"Count of past events deleted from MySQL: {deleted_events_count}\")  \n",
    "\n",
    "    # Insert venues (ignore duplicates)\n",
    "    insert_venue_query = \"\"\"\n",
    "    INSERT INTO venues (venue_id, name, city, state, country, location)\n",
    "    VALUES (%s, %s, %s, %s, %s, %s)\n",
    "    ON DUPLICATE KEY UPDATE \n",
    "        name=VALUES(name), \n",
    "        city=VALUES(city), \n",
    "        state=VALUES(state),\n",
    "        country=VALUES(country),\n",
    "        location=VALUES(location);\n",
    "    \"\"\"\n",
    "\n",
    "    for _, row in venues_df.iterrows():\n",
    "        cursor.execute(insert_venue_query, tuple(row))\n",
    "    conn.commit()  # Commit after inserting venues\n",
    "\n",
    "    # Insert events (ignore duplicates)\n",
    "    insert_event_query = \"\"\"\n",
    "    INSERT INTO events (event_id, name, start_date, venue_id, category)\n",
    "    VALUES (%s, %s, %s, %s, %s)\n",
    "    ON DUPLICATE KEY UPDATE \n",
    "        name=VALUES(name),\n",
    "        start_date=VALUES(start_date),\n",
    "        venue_id=VALUES(venue_id),\n",
    "        category=VALUES(category);\n",
    "    \"\"\"\n",
    "\n",
    "    for _, row in events_df.iterrows():\n",
    "        cursor.execute(insert_event_query, tuple(row))\n",
    "    conn.commit()  # Commit after inserting events\n",
    "\n",
    "        \n",
    "    print(f\"Inserted {cursor.rowcount} records into MySQL!\")\n",
    "\n",
    "except Error as e:\n",
    "    print(f\"Error: {e}\")\n",
    "\n",
    "else:\n",
    "    print(f\"API call succeeded with status {response.status_code}\")\n",
    "\n",
    "finally:\n",
    "    if 'conn' in locals() and conn.is_connected():\n",
    "        cursor.close()\n",
    "        print(\"MySQL connection all set!\")"
   ]
  },
  {
   "cell_type": "code",
   "execution_count": null,
   "metadata": {},
   "outputs": [],
   "source": [
    "# Group by 'venue_name' and 'event_id' to ensure distinct events are counted\n",
    "event_counts = df.groupby('venue_name')['event_id'].nunique().reset_index()\n",
    "\n",
    "# Rename columns for better readability\n",
    "event_counts.columns = ['Venue', 'Number of Events']\n",
    "\n",
    "# Sort the DataFrame in descending order by the number of events\n",
    "event_counts = event_counts.sort_values(by='Number of Events', ascending=False)\n",
    "\n",
    "# Create a bar plot to visualize the number of events at each venue\n",
    "plt.figure(figsize=(12, 8))\n",
    "plt.bar(event_counts['Venue'], event_counts['Number of Events'], color='skyblue')\n",
    "plt.xticks(rotation=90)\n",
    "plt.title('Number of Events at Each Venue for the next 7 days')\n",
    "plt.xlabel('Venues')\n",
    "plt.ylabel('Number of Events')\n",
    "plt.xticks(rotation=45, ha='right')\n",
    "plt.tight_layout()\n",
    "plt.show()"
   ]
  },
  {
   "cell_type": "code",
   "execution_count": null,
   "metadata": {},
   "outputs": [],
   "source": [
    "# Count the number of missing values in the 'venue_name' column\n",
    "missing_venue_name_count = df['venue_name'].isna().sum()\n",
    "\n",
    "# Print the count of missing data\n",
    "print(f\"Number of missing 'venue_name' values: {missing_venue_name_count}\")"
   ]
  },
  {
   "cell_type": "code",
   "execution_count": null,
   "metadata": {},
   "outputs": [],
   "source": [
    "# Group the events by classification and count the number of events in each category\n",
    "classification_event_count = events_df['event_category'].value_counts()\n",
    "\n",
    "# Create a bar plot\n",
    "plt.figure(figsize=(6, 4))\n",
    "classification_event_count.plot(kind='bar', color='purple')\n",
    "\n",
    "# Set titles and labels\n",
    "plt.title('Number of Events by Event Classification', fontsize=16)\n",
    "plt.xlabel('Event Classification', fontsize=12)\n",
    "plt.ylabel('Number of Events in Next 7 days', fontsize=12)\n",
    "plt.xticks(rotation=45, ha='right')  \n",
    "\n",
    "# Display the plot\n",
    "plt.tight_layout()  \n",
    "plt.show()"
   ]
  }
 ],
 "metadata": {
  "kernelspec": {
   "display_name": "main",
   "language": "python",
   "name": "python3"
  },
  "language_info": {
   "codemirror_mode": {
    "name": "ipython",
    "version": 3
   },
   "file_extension": ".py",
   "mimetype": "text/x-python",
   "name": "python",
   "nbconvert_exporter": "python",
   "pygments_lexer": "ipython3",
   "version": "3.12.3"
  }
 },
 "nbformat": 4,
 "nbformat_minor": 2
}
